{
 "cells": [
  {
   "cell_type": "markdown",
   "metadata": {},
   "source": [
    "# I CHOOSE KAGGLE + DATA SCIENCE."
   ]
  },
  {
   "cell_type": "markdown",
   "metadata": {},
   "source": [
    "## ABOUT NOTEBOOK:-\n",
    "* After survey conducted by kaggle and I am as an enthusiat to learn Data Science, started thinking to do analysis on their dataset.\n",
    "* This thing encouraged me to make this notebook.\n",
    "* In this notebook I am analysing kaggle survey dataset by forming questions and then answering them.\n",
    "* The questions which I am analysing are given below:-\n",
    "#### Basic analysis:-\n",
    "* Q1). Ratio of gender in survey.\n",
    "* Q2). Ages of maximum of respondants.\n",
    "* Q3). Top 10 countries participating in survey.\n",
    "* Q4). Top 5 formal educations of respondants.\n",
    "* Q5). Top 10 Current Job Title.\n",
    "* Q6). Top 10 Industries of respondants.\n",
    "* Q7). Average years of experience of people who know about data science.\n",
    "* Q8). Current Yearly compensation of respondants.\n",
    "* Q9). Important Activities.\n",
    "## Data Science Analysis:-\n",
    "* Q10). Current Employers incorporate Machine Learning or not.\n",
    "* Q11). Top 10 IDE.\n",
    "* Q12). Online Notebooks which are highly used people.\n",
    "*  Q13). Top 10 Programming Languages.\n",
    "*  Q14). Top 10 machine Learning libraries.\n",
    "* Q15). Top 10 Libraries for Visualization.\n",
    "* Q16). How long have people been writing code to analysis the data.\n",
    "* Q17). Top 10 Machine Learning products that are used at work.\n",
    "* \n"
   ]
  },
  {
   "cell_type": "code",
   "execution_count": null,
   "metadata": {},
   "outputs": [],
   "source": []
  },
  {
   "cell_type": "code",
   "execution_count": null,
   "metadata": {},
   "outputs": [],
   "source": []
  },
  {
   "cell_type": "code",
   "execution_count": null,
   "metadata": {},
   "outputs": [],
   "source": []
  },
  {
   "cell_type": "code",
   "execution_count": 1,
   "metadata": {
    "_cell_guid": "b1076dfc-b9ad-4769-8c92-a6c4dae69d19",
    "_uuid": "8f2839f25d086af736a60e9eeb907d3b93b6e0e5"
   },
   "outputs": [
    {
     "data": {
      "text/html": [
       "<script type=\"text/javascript\">window.PlotlyConfig = {MathJaxConfig: 'local'};</script><script type=\"text/javascript\">if (window.MathJax) {MathJax.Hub.Config({SVG: {font: \"STIX-Web\"}});}</script><script>requirejs.config({paths: { 'plotly': ['https://cdn.plot.ly/plotly-latest.min']},});if(!window._Plotly) {require(['plotly'],function(plotly) {window._Plotly=plotly;});}</script>"
      ],
      "text/vnd.plotly.v1+html": [
       "<script type=\"text/javascript\">window.PlotlyConfig = {MathJaxConfig: 'local'};</script><script type=\"text/javascript\">if (window.MathJax) {MathJax.Hub.Config({SVG: {font: \"STIX-Web\"}});}</script><script>requirejs.config({paths: { 'plotly': ['https://cdn.plot.ly/plotly-latest.min']},});if(!window._Plotly) {require(['plotly'],function(plotly) {window._Plotly=plotly;});}</script>"
      ]
     },
     "metadata": {},
     "output_type": "display_data"
    },
    {
     "data": {
      "text/html": [
       "<script type=\"text/javascript\">window.PlotlyConfig = {MathJaxConfig: 'local'};</script><script type=\"text/javascript\">if (window.MathJax) {MathJax.Hub.Config({SVG: {font: \"STIX-Web\"}});}</script><script>requirejs.config({paths: { 'plotly': ['https://cdn.plot.ly/plotly-latest.min']},});if(!window._Plotly) {require(['plotly'],function(plotly) {window._Plotly=plotly;});}</script>"
      ],
      "text/vnd.plotly.v1+html": [
       "<script type=\"text/javascript\">window.PlotlyConfig = {MathJaxConfig: 'local'};</script><script type=\"text/javascript\">if (window.MathJax) {MathJax.Hub.Config({SVG: {font: \"STIX-Web\"}});}</script><script>requirejs.config({paths: { 'plotly': ['https://cdn.plot.ly/plotly-latest.min']},});if(!window._Plotly) {require(['plotly'],function(plotly) {window._Plotly=plotly;});}</script>"
      ]
     },
     "metadata": {},
     "output_type": "display_data"
    }
   ],
   "source": [
    "# This Python 3 environment comes with many helpful analytics libraries installed\n",
    "# It is defined by the kaggle/python docker image: https://github.com/kaggle/docker-python\n",
    "# For example, here's several helpful packages to load in \n",
    "\n",
    "import numpy as np # linear algebra\n",
    "import pandas as pd # data processing, CSV file I/O (e.g. pd.read_csv)\n",
    "import warnings\n",
    "import matplotlib.pyplot as plt\n",
    "import seaborn as sns\n",
    "from plotly.offline import init_notebook_mode, iplot, download_plotlyjs\n",
    "import plotly.graph_objs as go\n",
    "import cufflinks as cf\n",
    "init_notebook_mode(connected=True)\n",
    "cf.go_offline()\n",
    "warnings.filterwarnings('ignore')\n",
    "\n",
    "# Input data files are available in the \"../input/\" directory.\n",
    "# For example, running this (by clicking run or pressing Shift+Enter) will list the files in the input directory\n",
    "\n",
    "import os\n",
    "#print(os.listdir(\"../input\"))\n",
    "\n",
    "# Any results you write to the current directory are saved as output."
   ]
  },
  {
   "cell_type": "code",
   "execution_count": 2,
   "metadata": {
    "_cell_guid": "79c7e3d0-c299-4dcb-8224-4455121ee9b0",
    "_uuid": "d629ff2d2480ee46fbb7e2d37f6b5fab8052498a"
   },
   "outputs": [],
   "source": [
    "# Reading dataset in this form, so that I can use it on my laptop also.\n",
    "try:\n",
    "    df_mcr = pd.read_csv('../input/multipleChoiceResponses.csv')\n",
    "    df_schema = pd.read_csv('../input/SurveySchema.csv')\n",
    "except Exception as e:\n",
    "    pass"
   ]
  },
  {
   "cell_type": "code",
   "execution_count": 3,
   "metadata": {},
   "outputs": [
    {
     "ename": "NameError",
     "evalue": "name 'df_mcr' is not defined",
     "output_type": "error",
     "traceback": [
      "\u001b[1;31m---------------------------------------------------------------------------\u001b[0m",
      "\u001b[1;31mNameError\u001b[0m                                 Traceback (most recent call last)",
      "\u001b[1;32m<ipython-input-3-6b9e9bc0d322>\u001b[0m in \u001b[0;36m<module>\u001b[1;34m()\u001b[0m\n\u001b[0;32m      1\u001b[0m \u001b[1;31m# Basic information about Dataset.\u001b[0m\u001b[1;33m\u001b[0m\u001b[1;33m\u001b[0m\u001b[0m\n\u001b[1;32m----> 2\u001b[1;33m \u001b[0mprint\u001b[0m\u001b[1;33m(\u001b[0m\u001b[0mdf_mcr\u001b[0m\u001b[1;33m.\u001b[0m\u001b[0mshape\u001b[0m\u001b[1;33m)\u001b[0m\u001b[1;33m\u001b[0m\u001b[0m\n\u001b[0m\u001b[0;32m      3\u001b[0m \u001b[0mprint\u001b[0m\u001b[1;33m(\u001b[0m\u001b[1;34m\"As one can see there are 395 columns.\"\u001b[0m\u001b[1;33m)\u001b[0m\u001b[1;33m\u001b[0m\u001b[0m\n",
      "\u001b[1;31mNameError\u001b[0m: name 'df_mcr' is not defined"
     ]
    }
   ],
   "source": [
    "# Basic information about Dataset.\n",
    "print(df_mcr.shape)\n",
    "print(\"As one can see there are 395 columns.\")"
   ]
  },
  {
   "cell_type": "code",
   "execution_count": null,
   "metadata": {},
   "outputs": [],
   "source": [
    "# Let's see the details about the null values.\n",
    "null = df_mcr.isnull().sum()\n",
    "print(null[:30])\n"
   ]
  },
  {
   "cell_type": "markdown",
   "metadata": {},
   "source": [
    "* As one can see there are so many null values in columns but we do not have to remove them, as they  are \n",
    "* part of multiple choice questions."
   ]
  },
  {
   "cell_type": "code",
   "execution_count": null,
   "metadata": {},
   "outputs": [],
   "source": [
    "df_mcr.head()"
   ]
  },
  {
   "cell_type": "markdown",
   "metadata": {},
   "source": [
    "# BASIC ANALYSIS"
   ]
  },
  {
   "cell_type": "markdown",
   "metadata": {},
   "source": [
    "### Q1). Ratio of gender in survey."
   ]
  },
  {
   "cell_type": "code",
   "execution_count": null,
   "metadata": {},
   "outputs": [],
   "source": [
    "gender = df_mcr['Q1'].value_counts().reset_index()\n",
    "gender.iplot(kind='pie', labels='index', values='Q1',title='Ration of Gender', pull=0.2, hole=0.2 )"
   ]
  },
  {
   "cell_type": "markdown",
   "metadata": {},
   "source": [
    "* More than 80% of respondences are male."
   ]
  },
  {
   "cell_type": "markdown",
   "metadata": {},
   "source": [
    "#### ===================================================================================================="
   ]
  },
  {
   "cell_type": "markdown",
   "metadata": {},
   "source": [
    "### Q2). Ages of maximum of respondants.\n"
   ]
  },
  {
   "cell_type": "code",
   "execution_count": null,
   "metadata": {},
   "outputs": [],
   "source": [
    "age = df_mcr['Q2'].value_counts().reset_index()\n",
    "age.iplot(kind='bar', x='index', y='Q2', title='Age of respondants', xTitle='Age',\n",
    "          yTitle='Number of responses', colors='deepskyblue')"
   ]
  },
  {
   "cell_type": "markdown",
   "metadata": {},
   "source": [
    "* Maximum number of people are in age group of 25 to 35.\n",
    "* As this is our demographic dividents."
   ]
  },
  {
   "cell_type": "markdown",
   "metadata": {},
   "source": [
    "#### ==================================================================================================="
   ]
  },
  {
   "cell_type": "markdown",
   "metadata": {},
   "source": [
    "### Q3). Top 10 countries participating in survey."
   ]
  },
  {
   "cell_type": "code",
   "execution_count": null,
   "metadata": {},
   "outputs": [],
   "source": [
    "country = df_mcr['Q3'].value_counts().reset_index()[:10]\n",
    "country.iplot(kind='bar', x='index', y='Q3', \n",
    "              title='Top 10 Countries participated in survey', xTitle='Country', yTitle='Number of Respondants')\n",
    "country.drop([3], axis=0, inplace=True)\n",
    "country\n",
    "values = country['Q3'].values\n",
    "#print(values)\n",
    "name = country['index'].values\n",
    "#print(name)\n",
    "code = ['USA','IND','CHN','RUS','BRA','DEU','GBR','CAN','FRA']\n",
    "data = dict(\n",
    "        type = 'choropleth',\n",
    "        locations = code,\n",
    "        z = values,\n",
    "        text = name,\n",
    "        colorbar = {'title' : 'Number of Participants'},\n",
    "      ) \n",
    "layout = dict(\n",
    "    title = 'Country Wise Users',\n",
    "    geo = dict(\n",
    "        showframe = False,\n",
    "        projection = {'type':'natural earth'}\n",
    "    )\n",
    ")\n",
    "choromap = go.Figure(data = [data],layout = layout)\n",
    "iplot(choromap)"
   ]
  },
  {
   "cell_type": "markdown",
   "metadata": {},
   "source": [
    "#### Observations:-\n",
    "* Maximum number of responses are from USA and India.\n",
    "* It indicates that maximum number of people who know Kaggle platforms are from USA and India.\n",
    "* Maximum number of people who are learning Data Science are from USA and India.\n",
    "* It's good to see India at this place."
   ]
  },
  {
   "cell_type": "markdown",
   "metadata": {},
   "source": [
    "#### =================================================================================================="
   ]
  },
  {
   "cell_type": "markdown",
   "metadata": {},
   "source": [
    "### Q4). Top 5 formal educations of respondants."
   ]
  },
  {
   "cell_type": "code",
   "execution_count": null,
   "metadata": {},
   "outputs": [],
   "source": [
    "degree = df_mcr['Q4'].value_counts().reset_index()\n",
    "degree.iplot(kind='bar',x='index', y='Q4', title='Top formal educations', xTitle='Degree', \n",
    "             yTitle='Frequency', colors='deepskyblue')"
   ]
  },
  {
   "cell_type": "markdown",
   "metadata": {},
   "source": [
    "#### ==================================================================================================="
   ]
  },
  {
   "cell_type": "markdown",
   "metadata": {},
   "source": [
    "### Q5). Top 10 Current Job Title."
   ]
  },
  {
   "cell_type": "code",
   "execution_count": null,
   "metadata": {},
   "outputs": [],
   "source": [
    "titles = df_mcr['Q6'].value_counts().reset_index()[:10]\n",
    "titles.iplot(kind='bar',x='index', y='Q6', title='Top Current Titles', \n",
    "             xTitle='Title', yTitle='Frequency',colors='green')"
   ]
  },
  {
   "cell_type": "markdown",
   "metadata": {},
   "source": [
    "#### ================================================================================================="
   ]
  },
  {
   "cell_type": "markdown",
   "metadata": {},
   "source": [
    "### Q6). Top 10 Industries of respondants."
   ]
  },
  {
   "cell_type": "code",
   "execution_count": null,
   "metadata": {},
   "outputs": [],
   "source": [
    "industry = df_mcr['Q7'].value_counts().reset_index()[:10]\n",
    "industry.iplot(kind='bar',x='index', y='Q7', title='Top 10 Current industry', \n",
    "             xTitle='Industry', yTitle='Frequency',colors='indigo')"
   ]
  },
  {
   "cell_type": "markdown",
   "metadata": {},
   "source": [
    "#### Observations:-\n",
    "* Many respondants from students are also there.\n",
    "* Till now data science is widely used by computer, education, or finanace industries.\n",
    "* Government Sectors are far away from using data science, they should start to use data science otherwise they will lack behind from other Industries.****"
   ]
  },
  {
   "cell_type": "markdown",
   "metadata": {},
   "source": [
    "#### =================================================================================================="
   ]
  },
  {
   "cell_type": "markdown",
   "metadata": {},
   "source": [
    "### Q7). Average years of experience of people who know about data science."
   ]
  },
  {
   "cell_type": "code",
   "execution_count": null,
   "metadata": {},
   "outputs": [],
   "source": [
    "experience = df_mcr['Q8'].value_counts().reset_index()[:10]\n",
    "experience.iplot(kind='bar',x='index', y='Q8', title='Average Years of experience', \n",
    "             xTitle='Years', yTitle='Frequency',colors='indianred')"
   ]
  },
  {
   "cell_type": "markdown",
   "metadata": {},
   "source": [
    "#### Observations:-\n",
    "* Maximum number of people are new in this field with experience of 1 to 3 years.\n",
    "* I think I choose data science at a correct time."
   ]
  },
  {
   "cell_type": "markdown",
   "metadata": {},
   "source": [
    "#### ===================================================================================================="
   ]
  },
  {
   "cell_type": "markdown",
   "metadata": {},
   "source": [
    "### Q8). Current Yearly compensation of respondants."
   ]
  },
  {
   "cell_type": "code",
   "execution_count": null,
   "metadata": {},
   "outputs": [],
   "source": [
    "compensation = df_mcr['Q9'].value_counts().reset_index()[:10]\n",
    "compensation.iplot(kind='bar',x='index', y='Q9', title='Average compensation', \n",
    "             xTitle='Amount of compensation', yTitle='Frequency',colors='indianred')\n"
   ]
  },
  {
   "cell_type": "markdown",
   "metadata": {},
   "source": [
    "#### ====================================================================================================="
   ]
  },
  {
   "cell_type": "markdown",
   "metadata": {},
   "source": [
    "### Q9). Important Activities."
   ]
  },
  {
   "cell_type": "code",
   "execution_count": null,
   "metadata": {},
   "outputs": [],
   "source": [
    "temp_df = df_mcr.drop([0],axis=0)\n",
    "temp_df.head()\n",
    "\n",
    "p1,p2,p3 = temp_df.loc[:,'Q11_Part_1'],temp_df.loc[:,'Q11_Part_2'],temp_df.loc[:,'Q11_Part_3'],\n",
    "p4,p5  = temp_df.loc[:,'Q11_Part_4'],temp_df.loc[:,'Q11_Part_5'],\n",
    "p6,p7 = temp_df.loc[:,'Q11_Part_6'],temp_df.loc[:,'Q11_Part_7']\n",
    "\n",
    "new_df = pd.concat([p1,p2,p3,p4,p5,p6,p7]).reset_index()      # Concating 7 columns of Q7.\n",
    "new_df.dropna(inplace=True)\n",
    "new_df = new_df[0].value_counts().reset_index()\n",
    "new_df.columns = ['a','b']\n",
    "new_df.iplot(kind='bar', x='a', y='b', title='Important Activities', xTitle='Activity', colors='brown')    \n"
   ]
  },
  {
   "cell_type": "markdown",
   "metadata": {},
   "source": [
    "#### ===================================================================================================="
   ]
  },
  {
   "cell_type": "markdown",
   "metadata": {},
   "source": [
    "# DATA SCIENCE ANALYSIS"
   ]
  },
  {
   "cell_type": "markdown",
   "metadata": {},
   "source": [
    "### Q10). Current Employers incorporate Machine Learning or not."
   ]
  },
  {
   "cell_type": "code",
   "execution_count": null,
   "metadata": {},
   "outputs": [],
   "source": [
    "ml = df_mcr['Q10'].value_counts().reset_index()[:10]\n",
    "ml.iplot(kind='bar',x='index', y='Q10', title='Use of ML ', \n",
    "             xTitle='Whether Ml is used or not', yTitle='Frequency',colors='indigo')\n"
   ]
  },
  {
   "cell_type": "markdown",
   "metadata": {},
   "source": [
    "* ML is highly used in industries.\n",
    "* Maximum are exploring ML, means they are new to ML and they want to use ML."
   ]
  },
  {
   "cell_type": "markdown",
   "metadata": {},
   "source": [
    "#### ===================================================================================================="
   ]
  },
  {
   "cell_type": "markdown",
   "metadata": {},
   "source": [
    "### Q11). Top 10 IDE."
   ]
  },
  {
   "cell_type": "code",
   "execution_count": null,
   "metadata": {},
   "outputs": [],
   "source": [
    "temp_df = df_mcr.drop([0],axis=0)\n",
    "temp_df.head()\n",
    "\n",
    "p1,p2,p3 = temp_df.loc[:,'Q13_Part_1'],temp_df.loc[:,'Q13_Part_2'],temp_df.loc[:,'Q13_Part_3'],\n",
    "p4,p5  = temp_df.loc[:,'Q13_Part_4'],temp_df.loc[:,'Q13_Part_5'],\n",
    "p6,p7,p8 = temp_df.loc[:,'Q13_Part_6'],temp_df.loc[:,'Q13_Part_7'],temp_df.loc[:,'Q13_Part_8']\n",
    "p9,p10,p11 = temp_df.loc[:,'Q13_Part_9'],temp_df.loc[:,'Q13_Part_10'],temp_df.loc[:,'Q13_Part_11']\n",
    "p12,p13,p14 = temp_df.loc[:,'Q13_Part_12'],temp_df.loc[:,'Q13_Part_13'],temp_df.loc[:,'Q13_Part_14']\n",
    "p15 = temp_df.loc[:,'Q13_Part_15']\n",
    "\n",
    "new_df = pd.concat([p1,p2,p3,p4,p5,p6,p7,p8,p9,p10,p11,p12,p13,p14,p15]).reset_index()      # Concating 7 columns of Q7.\n",
    "new_df.dropna(inplace=True)\n",
    "new_df = new_df[0].value_counts().reset_index()\n",
    "new_df.columns = ['a','b']\n",
    "new_df.iplot(kind='bar', x='a', y='b', title='TOP IDE', xTitle='IDE', colors='deepskyblue')    \n"
   ]
  },
  {
   "cell_type": "markdown",
   "metadata": {},
   "source": [
    "#### Observations:-\n",
    "* Jupyter notebook is highly used by people follwed by RStudio.\n",
    "* Notebook++ is also in list.\n",
    "* PyCharm is mainly used backhand programmers. "
   ]
  },
  {
   "cell_type": "markdown",
   "metadata": {},
   "source": [
    "#### ====================================================================================================="
   ]
  },
  {
   "cell_type": "markdown",
   "metadata": {},
   "source": [
    "#### ====================================================================================================="
   ]
  },
  {
   "cell_type": "markdown",
   "metadata": {},
   "source": [
    "### Q12). Online Notebooks which are highly used people."
   ]
  },
  {
   "cell_type": "code",
   "execution_count": null,
   "metadata": {},
   "outputs": [],
   "source": [
    "temp_df = df_mcr.drop([0],axis=0)\n",
    "temp_df.head()\n",
    "\n",
    "p1,p2,p3 = temp_df.loc[:,'Q14_Part_1'],temp_df.loc[:,'Q14_Part_2'],temp_df.loc[:,'Q14_Part_3'],\n",
    "p4,p5  = temp_df.loc[:,'Q14_Part_4'],temp_df.loc[:,'Q14_Part_5'],\n",
    "p6,p7,p8 = temp_df.loc[:,'Q14_Part_6'],temp_df.loc[:,'Q14_Part_7'],temp_df.loc[:,'Q14_Part_8']\n",
    "p9,p10,p11 = temp_df.loc[:,'Q14_Part_9'],temp_df.loc[:,'Q14_Part_10'],temp_df.loc[:,'Q14_Part_11']\n",
    "#p12,p13,p14 = temp_df.loc[:,'Q13_Part_12'],temp_df.loc[:,'Q13_Part_13'],temp_df.loc[:,'Q13_Part_14']\n",
    "#p15 = temp_df.loc[:,'Q13_Part_15']\n",
    "\n",
    "new_df = pd.concat([p1,p2,p3,p4,p5,p6,p7,p8,p9,p10,p11]).reset_index()      # Concating 7 columns of Q7.\n",
    "new_df.dropna(inplace=True)\n",
    "new_df = new_df[0].value_counts().reset_index()\n",
    "new_df.columns = ['a','b']\n",
    "#new_df.iplot(kind='bar', x='a', y='b', title='TOP IDE', xTitle='IDE', colors='deepskyblue')    \n",
    "new_df.iplot(kind='pie', labels='a', values='b', title='Top ONLINE NOTEBOOKS', pull=0.2, hole=0.2)"
   ]
  },
  {
   "cell_type": "markdown",
   "metadata": {},
   "source": [
    "#### Observations:-\n",
    "* Kaggle kernels, they are highly used Data science people.\n",
    "* Followed by Jupyter Hub.\n",
    "* This is the reason I choose Kaggle + Data Science.\n",
    "* 28% people use no online notebook as they prefer to work on thier own machine.\n",
    "\n"
   ]
  },
  {
   "cell_type": "markdown",
   "metadata": {},
   "source": [
    "#### ===================================================================================================="
   ]
  },
  {
   "cell_type": "markdown",
   "metadata": {},
   "source": [
    "### Q13). Top 10 Programming Languages."
   ]
  },
  {
   "cell_type": "code",
   "execution_count": null,
   "metadata": {},
   "outputs": [],
   "source": [
    "temp_df = df_mcr.drop([0],axis=0)\n",
    "temp_df.head()\n",
    "\n",
    "p1,p2,p3 = temp_df.loc[:,'Q16_Part_1'],temp_df.loc[:,'Q16_Part_2'],temp_df.loc[:,'Q16_Part_3'],\n",
    "p4,p5  = temp_df.loc[:,'Q16_Part_4'],temp_df.loc[:,'Q16_Part_5'],\n",
    "p6,p7,p8 = temp_df.loc[:,'Q16_Part_6'],temp_df.loc[:,'Q16_Part_7'],temp_df.loc[:,'Q16_Part_8']\n",
    "p9,p10,p11 = temp_df.loc[:,'Q16_Part_9'],temp_df.loc[:,'Q16_Part_10'],temp_df.loc[:,'Q16_Part_11']\n",
    "p12,p13,p14 = temp_df.loc[:,'Q16_Part_12'],temp_df.loc[:,'Q16_Part_13'],temp_df.loc[:,'Q16_Part_14']\n",
    "p15,p16,p17 = temp_df.loc[:,'Q16_Part_15'], temp_df.loc[:,'Q16_Part_16'], temp_df.loc[:,'Q16_Part_17']\n",
    "p18 = temp_df.loc[:,'Q16_Part_18']\n",
    "\n",
    "new_df = pd.concat([p1,p2,p3,p4,p5,p6,p7,p8,p9,p10,p11,p12,p13,p14,p15,p16,p17,p18]).reset_index()      \n",
    "\n",
    "new_df.dropna(inplace=True)\n",
    "new_df = new_df[0].value_counts().reset_index()[:10]\n",
    "new_df.columns = ['a','b']\n",
    "#new_df.iplot(kind='bar', x='a', y='b', title='TOP IDE', xTitle='IDE', colors='deepskyblue')    \n",
    "new_df.iplot(kind='pie', labels='a', values='b', title='Top 10 Programming Languages', pull=0.2, hole=0.2)"
   ]
  },
  {
   "cell_type": "markdown",
   "metadata": {},
   "source": [
    "#### Observations:-\n",
    "* As aspected python, sql and R at the top.\n",
    "* In future python will eat maximum languages.\n",
    "* 31% data science people use python.\n",
    "* SQL is also neccesary to connect with data base, which is at 16%."
   ]
  },
  {
   "cell_type": "markdown",
   "metadata": {},
   "source": [
    "#### ===================================================================================================="
   ]
  },
  {
   "cell_type": "markdown",
   "metadata": {},
   "source": [
    "### Q14). Top 10 machine Learning libraries."
   ]
  },
  {
   "cell_type": "code",
   "execution_count": null,
   "metadata": {},
   "outputs": [],
   "source": [
    "temp_df = df_mcr.drop([0],axis=0)\n",
    "temp_df.head()\n",
    "\n",
    "p1,p2,p3 = temp_df.loc[:,'Q19_Part_1'],temp_df.loc[:,'Q19_Part_2'],temp_df.loc[:,'Q19_Part_3'],\n",
    "p4,p5  = temp_df.loc[:,'Q19_Part_4'],temp_df.loc[:,'Q19_Part_5'],\n",
    "p6,p7,p8 = temp_df.loc[:,'Q19_Part_6'],temp_df.loc[:,'Q19_Part_7'],temp_df.loc[:,'Q19_Part_8']\n",
    "p9,p10,p11 = temp_df.loc[:,'Q19_Part_9'],temp_df.loc[:,'Q19_Part_10'],temp_df.loc[:,'Q19_Part_11']\n",
    "p12,p13,p14 = temp_df.loc[:,'Q19_Part_12'],temp_df.loc[:,'Q19_Part_13'],temp_df.loc[:,'Q19_Part_14']\n",
    "p15,p16,p17 = temp_df.loc[:,'Q19_Part_15'], temp_df.loc[:,'Q19_Part_16'], temp_df.loc[:,'Q19_Part_17']\n",
    "p18 = temp_df.loc[:,'Q19_Part_18']\n",
    "\n",
    "new_df = pd.concat([p1,p2,p3,p4,p5,p6,p7,p8,p9,p10,p11,p12,p13,p14,p15,p16,p17,p18]).reset_index()      \n",
    "\n",
    "new_df.dropna(inplace=True)\n",
    "new_df = new_df[0].value_counts().reset_index()[:10]\n",
    "new_df.columns = ['a','b']\n",
    "#new_df.iplot(kind='bar', x='a', y='b', title='TOP IDE', xTitle='IDE', colors='deepskyblue')    \n",
    "new_df.iplot(kind='pie', labels='a', values='b', title='Top 10 Machine Learning Libraries', pull=0.2, hole=0.2)"
   ]
  },
  {
   "cell_type": "markdown",
   "metadata": {},
   "source": [
    "### Observations:-\n",
    "* Scikit-learn topped the list followed by tensorflow and by keras.\n",
    "* 22% people use Scikit-learn.\n",
    "* 18% people use Tensorflow.\n",
    "* 14% people use Keras."
   ]
  },
  {
   "cell_type": "markdown",
   "metadata": {},
   "source": [
    "#### ==================================================================================================="
   ]
  },
  {
   "cell_type": "markdown",
   "metadata": {},
   "source": [
    "### Q15). Top 10 Libraries for Visualization."
   ]
  },
  {
   "cell_type": "code",
   "execution_count": null,
   "metadata": {},
   "outputs": [],
   "source": [
    "temp_df = df_mcr.drop([0],axis=0)\n",
    "temp_df.head()\n",
    "\n",
    "p1,p2,p3 = temp_df.loc[:,'Q21_Part_1'],temp_df.loc[:,'Q21_Part_2'],temp_df.loc[:,'Q21_Part_3'],\n",
    "p4,p5  = temp_df.loc[:,'Q21_Part_4'],temp_df.loc[:,'Q21_Part_5'],\n",
    "p6,p7,p8 = temp_df.loc[:,'Q21_Part_6'],temp_df.loc[:,'Q21_Part_7'],temp_df.loc[:,'Q21_Part_8']\n",
    "p9,p10,p11 = temp_df.loc[:,'Q21_Part_9'],temp_df.loc[:,'Q21_Part_10'],temp_df.loc[:,'Q21_Part_11']\n",
    "p12,p13 = temp_df.loc[:,'Q21_Part_12'],temp_df.loc[:,'Q21_Part_13']\n",
    "#p15,p16,p17 = temp_df.loc[:,'Q16_Part_15'], temp_df.loc[:,'Q16_Part_16'], temp_df.loc[:,'Q16_Part_17']\n",
    "#p18 = temp_df.loc[:,'Q16_Part_18']\n",
    "\n",
    "new_df = pd.concat([p1,p2,p3,p4,p5,p6,p7,p8,p9,p10,p11,p12,p13,]).reset_index()      \n",
    "\n",
    "new_df.dropna(inplace=True)\n",
    "new_df = new_df[0].value_counts().reset_index()[:10]\n",
    "new_df.columns = ['a','b']\n",
    "#new_df.iplot(kind='bar', x='a', y='b', title='TOP IDE', xTitle='IDE', colors='deepskyblue')    \n",
    "new_df.iplot(kind='pie', labels='a', values='b', title='Top 10 Libraries for Visualization', pull=0.2, hole=0.2)"
   ]
  },
  {
   "cell_type": "markdown",
   "metadata": {},
   "source": [
    "#### Observations:-\n",
    "* Matplotlib,the basic of visualization library, topped the list.\n",
    "* Seaborn,more advance than matplotlib and it is based on maplotlib, is at 2nd rank.\n",
    "* Plotly, which I am using right now, is at 4th place.\n",
    "* Feeling happy to see this list."
   ]
  },
  {
   "cell_type": "markdown",
   "metadata": {},
   "source": [
    "#### ===================================================================================================="
   ]
  },
  {
   "cell_type": "markdown",
   "metadata": {},
   "source": [
    "### Q16). How long have people been writing code to analysis the data."
   ]
  },
  {
   "cell_type": "code",
   "execution_count": null,
   "metadata": {},
   "outputs": [],
   "source": [
    "time = df_mcr['Q24'].value_counts().reset_index()\n",
    "time.iplot(kind='pie', labels='index', values='Q24',title='Time in Year ', pull=0.2, hole=0.2 )"
   ]
  },
  {
   "cell_type": "markdown",
   "metadata": {},
   "source": [
    "#### Observations:-\n",
    "* Mainly people are using it for 1 to 5 year.\n",
    "* Totaly new field and expanding at a high pace.\n",
    "* Maybe my step to choose Data Science is correct, let's see in future.\n"
   ]
  },
  {
   "cell_type": "markdown",
   "metadata": {},
   "source": [
    "#### ==================================================================================================="
   ]
  },
  {
   "cell_type": "markdown",
   "metadata": {},
   "source": [
    "### Q17). Top 10 Machine Learning products that are used at work."
   ]
  },
  {
   "cell_type": "code",
   "execution_count": null,
   "metadata": {},
   "outputs": [],
   "source": [
    "temp_df = df_mcr.drop([0],axis=0)\n",
    "temp_df.head()\n",
    "\n",
    "p1,p2,p3 = temp_df.loc[:,'Q28_Part_1'],temp_df.loc[:,'Q28_Part_2'],temp_df.loc[:,'Q28_Part_3'],\n",
    "p4,p5  = temp_df.loc[:,'Q28_Part_4'],temp_df.loc[:,'Q28_Part_5'],\n",
    "p6,p7,p8 = temp_df.loc[:,'Q28_Part_6'],temp_df.loc[:,'Q28_Part_7'],temp_df.loc[:,'Q28_Part_8']\n",
    "p9,p10,p11 = temp_df.loc[:,'Q28_Part_9'],temp_df.loc[:,'Q28_Part_10'],temp_df.loc[:,'Q28_Part_11']\n",
    "p12,p13,p14 = temp_df.loc[:,'Q28_Part_12'],temp_df.loc[:,'Q28_Part_13'],temp_df.loc[:,'Q28_Part_14']\n",
    "p15,p16,p17 = temp_df.loc[:,'Q28_Part_15'], temp_df.loc[:,'Q28_Part_16'], temp_df.loc[:,'Q28_Part_17']\n",
    "p18 = temp_df.loc[:,'Q28_Part_18']\n",
    "\n",
    "new_df = pd.concat([p1,p2,p3,p4,p5,p6,p7,p8,p9,p10,p11,p12,p13,p14,p15,p16,p17,p18]).reset_index()      \n",
    "\n",
    "new_df.dropna(inplace=True)\n",
    "new_df = new_df[0].value_counts().reset_index()[:10]\n",
    "new_df.columns = ['a','b']\n",
    "#new_df.iplot(kind='bar', x='a', y='b', title='TOP IDE', xTitle='IDE', colors='deepskyblue')    \n",
    "new_df.iplot(kind='pie', labels='a', values='b', title='Top 10 Machine Learning Products', pull=0.2, hole=0.2)"
   ]
  },
  {
   "cell_type": "markdown",
   "metadata": {},
   "source": [
    "#### ===================================================================================================="
   ]
  },
  {
   "cell_type": "markdown",
   "metadata": {},
   "source": [
    "### Q18). Top 10 Big Data and Analytics Products."
   ]
  },
  {
   "cell_type": "code",
   "execution_count": null,
   "metadata": {},
   "outputs": [],
   "source": [
    "df_mcr.loc[:, 'Q37_OTHER_TEXT':]\n"
   ]
  },
  {
   "cell_type": "code",
   "execution_count": null,
   "metadata": {},
   "outputs": [],
   "source": [
    "df_mcr.loc[0,'Q39_Part_1']"
   ]
  },
  {
   "cell_type": "code",
   "execution_count": null,
   "metadata": {},
   "outputs": [],
   "source": [
    "temp_df = df_mcr.drop([0],axis=0)\n",
    "temp_df.head()\n",
    "\n",
    "p1,p2,p3 = temp_df.loc[:,'Q30_Part_1'],temp_df.loc[:,'Q30_Part_2'],temp_df.loc[:,'Q30_Part_3'],\n",
    "p4,p5  = temp_df.loc[:,'Q30_Part_4'],temp_df.loc[:,'Q30_Part_5'],\n",
    "p6,p7,p8 = temp_df.loc[:,'Q30_Part_6'],temp_df.loc[:,'Q30_Part_7'],temp_df.loc[:,'Q30_Part_8']\n",
    "p9,p10,p11 = temp_df.loc[:,'Q30_Part_9'],temp_df.loc[:,'Q30_Part_10'],temp_df.loc[:,'Q30_Part_11']\n",
    "p12,p13,p14 = temp_df.loc[:,'Q30_Part_12'],temp_df.loc[:,'Q30_Part_13'],temp_df.loc[:,'Q30_Part_14']\n",
    "p15,p16,p17 = temp_df.loc[:,'Q30_Part_15'], temp_df.loc[:,'Q30_Part_16'], temp_df.loc[:,'Q30_Part_17']\n",
    "p18 = temp_df.loc[:,'Q30_Part_18']\n",
    "\n",
    "new_df = pd.concat([p1,p2,p3,p4,p5,p6,p7,p8,p9,p10,p11,p12,p13,p14,p15,p16,p17,p18]).reset_index()      \n",
    "\n",
    "new_df.dropna(inplace=True)\n",
    "new_df = new_df[0].value_counts().reset_index()[:10]\n",
    "new_df.columns = ['a','b']\n",
    "#new_df.iplot(kind='bar', x='a', y='b', title='TOP IDE', xTitle='IDE', colors='deepskyblue')    \n",
    "new_df.iplot(kind='pie', labels='a', values='b', title='Top 10 Big Data and Analytic Products', pull=0.2, hole=0.2)"
   ]
  },
  {
   "cell_type": "markdown",
   "metadata": {},
   "source": [
    "\n",
    "#### ================================================================================================"
   ]
  },
  {
   "cell_type": "markdown",
   "metadata": {},
   "source": [
    "### Q19). Top 10 types of Data people currently interact."
   ]
  },
  {
   "cell_type": "code",
   "execution_count": null,
   "metadata": {},
   "outputs": [],
   "source": [
    "temp_df = df_mcr.drop([0],axis=0)\n",
    "temp_df.head()\n",
    "\n",
    "p1,p2,p3 = temp_df.loc[:,'Q31_Part_1'],temp_df.loc[:,'Q31_Part_2'],temp_df.loc[:,'Q31_Part_3'],\n",
    "p4,p5  = temp_df.loc[:,'Q31_Part_4'],temp_df.loc[:,'Q31_Part_5'],\n",
    "p6,p7,p8 = temp_df.loc[:,'Q31_Part_6'],temp_df.loc[:,'Q31_Part_7'],temp_df.loc[:,'Q31_Part_8']\n",
    "p9,p10,p11 = temp_df.loc[:,'Q31_Part_9'],temp_df.loc[:,'Q31_Part_10'],temp_df.loc[:,'Q31_Part_11']\n",
    "p12 = temp_df.loc[:,'Q31_Part_12']\n",
    "#p15,p16,p17 = temp_df.loc[:,'Q30_Part_15'], temp_df.loc[:,'Q30_Part_16'], temp_df.loc[:,'Q30_Part_17']\n",
    "#p18 = temp_df.loc[:,'Q30_Part_18']\n",
    "\n",
    "new_df = pd.concat([p1,p2,p3,p4,p5,p6,p7,p8,p9,p10,p11,p12]).reset_index()      \n",
    "\n",
    "new_df.dropna(inplace=True)\n",
    "new_df = new_df[0].value_counts().reset_index()[:10]\n",
    "new_df.columns = ['a','b']\n",
    "#new_df.iplot(kind='bar', x='a', y='b', title='TOP IDE', xTitle='IDE', colors='deepskyblue')    \n",
    "new_df.iplot(kind='pie', labels='a', values='b', title='Top 10 Type of Data', pull=0.2, hole=0.2)"
   ]
  },
  {
   "cell_type": "markdown",
   "metadata": {},
   "source": [
    "* Mainly people interact with numerical data then by text data and then by categorical data.\n",
    "* So practice on these type of data will help.\n"
   ]
  },
  {
   "cell_type": "markdown",
   "metadata": {},
   "source": [
    "#### ====================================================================================================="
   ]
  },
  {
   "cell_type": "markdown",
   "metadata": {},
   "source": [
    "### Q20). Top 10 places to find Pubic Datasets."
   ]
  },
  {
   "cell_type": "code",
   "execution_count": null,
   "metadata": {},
   "outputs": [],
   "source": [
    "temp_df = df_mcr.drop([0],axis=0)\n",
    "temp_df.head()\n",
    "\n",
    "p1,p2,p3 = temp_df.loc[:,'Q33_Part_1'],temp_df.loc[:,'Q33_Part_2'],temp_df.loc[:,'Q33_Part_3'],\n",
    "p4,p5  = temp_df.loc[:,'Q33_Part_4'],temp_df.loc[:,'Q33_Part_5'],\n",
    "p6,p7,p8 = temp_df.loc[:,'Q33_Part_6'],temp_df.loc[:,'Q33_Part_7'],temp_df.loc[:,'Q33_Part_8']\n",
    "p9,p10,p11 = temp_df.loc[:,'Q33_Part_9'],temp_df.loc[:,'Q33_Part_10'],temp_df.loc[:,'Q33_Part_11']\n",
    "#p12 = temp_df.loc[:,'Q31_Part_12']\n",
    "#p15,p16,p17 = temp_df.loc[:,'Q30_Part_15'], temp_df.loc[:,'Q30_Part_16'], temp_df.loc[:,'Q30_Part_17']\n",
    "#p18 = temp_df.loc[:,'Q30_Part_18']\n",
    "\n",
    "new_df = pd.concat([p1,p2,p3,p4,p5,p6,p7,p8,p9,p10,p11]).reset_index()      \n",
    "\n",
    "new_df.dropna(inplace=True)\n",
    "new_df = new_df[0].value_counts().reset_index()[:10]\n",
    "new_df.columns = ['a','b']\n",
    "new_df.iplot(kind='bar', x='a', y='b', title='TOP Places for Dataset', xTitle='Place', colors='deepskyblue')    \n",
    "#new_df.iplot(kind='pie', labels='a', values='b', title='Top 10 Type of Data', pull=0.2, hole=0.2)"
   ]
  },
  {
   "cell_type": "markdown",
   "metadata": {},
   "source": [
    "* Maximum people get their dataset from kaggle.\n",
    "* As expected kaggle lead the race.\n",
    "* The reason I choose kaggle.\n"
   ]
  },
  {
   "cell_type": "markdown",
   "metadata": {},
   "source": [
    "#### ====================================================================================================="
   ]
  },
  {
   "cell_type": "markdown",
   "metadata": {},
   "source": [
    "### Q21). Top 10  Online Platforms to learn Data Science."
   ]
  },
  {
   "cell_type": "code",
   "execution_count": null,
   "metadata": {},
   "outputs": [],
   "source": [
    "online = df_mcr['Q37'].value_counts().reset_index()[:10]\n",
    "online.iplot(kind='pie', labels='index', values='Q37',title='Top 10 Online Platforms to learn Data Science ',\n",
    "             pull=0.2, hole=0.2 )"
   ]
  },
  {
   "cell_type": "markdown",
   "metadata": {},
   "source": [
    "#### Observations:- \n",
    "* 40% people are learning from Coursera.\n",
    "* Datacamp, udemy are at 2nd and 3rd places with 12% each.\n",
    "* Mainly people are learning Data Science from online courses.\n",
    "* Online courses are very flexible, so they are in high demnad."
   ]
  },
  {
   "cell_type": "markdown",
   "metadata": {},
   "source": [
    "#### =================================================================================================="
   ]
  },
  {
   "cell_type": "markdown",
   "metadata": {},
   "source": [
    "### Q22). Top 10 Websites for Data Science News."
   ]
  },
  {
   "cell_type": "code",
   "execution_count": null,
   "metadata": {},
   "outputs": [],
   "source": [
    "temp_df = df_mcr.drop([0],axis=0)\n",
    "temp_df.head()\n",
    "\n",
    "p1,p2,p3 = temp_df.loc[:,'Q38_Part_1'],temp_df.loc[:,'Q38_Part_2'],temp_df.loc[:,'Q38_Part_3'],\n",
    "p4,p5  = temp_df.loc[:,'Q38_Part_4'],temp_df.loc[:,'Q38_Part_5'],\n",
    "p6,p7,p8 = temp_df.loc[:,'Q38_Part_6'],temp_df.loc[:,'Q38_Part_7'],temp_df.loc[:,'Q38_Part_8']\n",
    "p9,p10,p11 = temp_df.loc[:,'Q38_Part_9'],temp_df.loc[:,'Q38_Part_10'],temp_df.loc[:,'Q38_Part_11']\n",
    "p12,p13,p14 = temp_df.loc[:,'Q38_Part_12'],temp_df.loc[:,'Q38_Part_13'],temp_df.loc[:,'Q38_Part_14']\n",
    "p15,p16,p17 = temp_df.loc[:,'Q38_Part_15'], temp_df.loc[:,'Q38_Part_16'], temp_df.loc[:,'Q38_Part_17']\n",
    "p18 = temp_df.loc[:,'Q38_Part_18']\n",
    "\n",
    "new_df = pd.concat([p1,p2,p3,p4,p5,p6,p7,p8,p9,p10,p11,p12,p13,p14,p15,p16,p17,p18]).reset_index()      \n",
    "\n",
    "new_df.dropna(inplace=True)\n",
    "new_df = new_df[0].value_counts().reset_index()[:10]\n",
    "new_df.columns = ['a','b']\n",
    "#new_df.iplot(kind='bar', x='a', y='b', title='TOP IDE', xTitle='IDE', colors='deepskyblue')    \n",
    "new_df.iplot(kind='pie', labels='a', values='b', title='Top 10 Websites for Data Science News', pull=0.2, hole=0.2)"
   ]
  },
  {
   "cell_type": "markdown",
   "metadata": {},
   "source": [
    "#### Observations:-\n",
    "* Kaggleform is at top place with 18%.\n",
    "* It is followed by mediumblog post.\n",
    "* Kaggle is again at the top.\n",
    "* Many things I am learning from kaggle platform.\n"
   ]
  },
  {
   "cell_type": "markdown",
   "metadata": {},
   "source": [
    " ### Q23). People view on the quality of Online learning and  bootcamp."
   ]
  },
  {
   "cell_type": "code",
   "execution_count": null,
   "metadata": {},
   "outputs": [],
   "source": [
    "temp_df = df_mcr.drop([0],axis=0)\n",
    "temp_df.head()\n",
    "\n",
    "p1,p2 = temp_df.loc[:,'Q39_Part_1'],temp_df.loc[:,'Q39_Part_2']\n",
    "\n",
    "\n",
    "new_df = pd.concat([p1,p2]).reset_index()      \n",
    "\n",
    "new_df.dropna(inplace=True)\n",
    "new_df = new_df[0].value_counts().reset_index()[:10]\n",
    "new_df.columns = ['a','b']\n",
    "#new_df.iplot(kind='bar', x='a', y='b', title='TOP IDE', xTitle='IDE', colors='deepskyblue')    \n",
    "new_df.iplot(kind='pie', labels='a', values='b', title='View on quality of OnlineLearning and Bootcamp',\n",
    "             pull=0.2, hole=0.2)"
   ]
  },
  {
   "cell_type": "markdown",
   "metadata": {},
   "source": [
    "#### Observations:-\n",
    "* 50% people love to learn from online sources or from bootcamp.\n",
    "* This is a new type of education revolution.\n"
   ]
  },
  {
   "cell_type": "markdown",
   "metadata": {},
   "source": [
    "#### ==================================================================================================="
   ]
  },
  {
   "cell_type": "markdown",
   "metadata": {},
   "source": [
    "### Q24). Academic Achievement VS Independent projects for Data Science."
   ]
  },
  {
   "cell_type": "code",
   "execution_count": null,
   "metadata": {},
   "outputs": [],
   "source": [
    "online = df_mcr['Q40'].value_counts().reset_index()[:10]\n",
    "online.iplot(kind='bar', x='index', y='Q40',title='Academic Achievement VS Independent projects for Data Science ',\n",
    "             xTitle='Comparision', colors='deepskyblue' )"
   ]
  },
  {
   "cell_type": "markdown",
   "metadata": {},
   "source": [
    "* Independent projects are more important than academic achievement."
   ]
  },
  {
   "cell_type": "markdown",
   "metadata": {},
   "source": [
    "#### ===================================================================================================\n",
    "#### ===================================================================================================\n",
    "#### ==================================================================================================="
   ]
  },
  {
   "cell_type": "markdown",
   "metadata": {},
   "source": []
  }
 ],
 "metadata": {
  "kernelspec": {
   "display_name": "Python 3",
   "language": "python",
   "name": "python3"
  },
  "language_info": {
   "codemirror_mode": {
    "name": "ipython",
    "version": 3
   },
   "file_extension": ".py",
   "mimetype": "text/x-python",
   "name": "python",
   "nbconvert_exporter": "python",
   "pygments_lexer": "ipython3",
   "version": "3.7.0"
  }
 },
 "nbformat": 4,
 "nbformat_minor": 1
}
